{
 "cells": [
  {
   "cell_type": "code",
   "execution_count": 2,
   "metadata": {
    "collapsed": true
   },
   "outputs": [],
   "source": [
    "import numpy as np\n",
    "import pandas as pd\n",
    "import matplotlib.pyplot as plt\n",
    "import warnings\n",
    "import os\n",
    "warnings.filterwarnings('ignore')\n",
    "%matplotlib inline"
   ]
  },
  {
   "cell_type": "code",
   "execution_count": null,
   "metadata": {
    "collapsed": true
   },
   "outputs": [],
   "source": [
    "result = pd.read_csv('../DATASETS/anime/rating_complete.csv',chunksize=1000000,low_memory=False,header=0)\n",
    "animes_id = []\n",
    "for chunk in result:\n",
    "    res = list(set(chunk['anime_id'].values))\n",
    "    animes_id.extend(res)\n",
    "animes_id = list(set(animes_id))\n",
    "anime_info = {}\n",
    "for anime_id in animes_id:\n",
    "    anime_info[anime_id] = pd.DataFrame()\n",
    "result = pd.read_csv('../DATASETS/anime/rating_complete.csv',chunksize=1000000,low_memory=False,header=0)\n",
    "for i, chunk in enumerate(result):\n",
    "    for j, anime_id in enumerate(anime_info):\n",
    "        anime_info[anime_id] = anime_info[anime_id].append(chunk[chunk['anime_id']==anime_id])\n",
    "    print(f'ready {i+1} from 50')\n",
    "    \n",
    "    \n",
    "for j, anime_id in enumerate(anime_info):\n",
    "    csv_name = str(anime_id)\n",
    "    anime_info[anime_id].to_csv(f'../anime_rec/{csv_name}.csv', index=False, encoding='utf-8')\n",
    "    if j % 100 == 0:\n",
    "        print(j)\n",
    "    \n",
    "    \n",
    "files = os.listdir('../anime_rec/')\n",
    "keys = []\n",
    "for file in files:\n",
    "    key = int(file.split('.')[0])\n",
    "    keys.append(key)\n",
    "anime_info = {}\n",
    "counter = 0\n",
    "for key, file in zip(keys, files):\n",
    "    counter += 1\n",
    "    anime_info[key] = pd.read_csv(f'../anime_rec/{file}', encoding='utf-8')\n",
    "    anime_info[key] = anime_info[key].merge(anime[['MAL_ID', 'Name']], left_on='anime_id', right_on='MAL_ID')\n",
    "    anime_info[key].to_csv(f'../anime_rec_with_name/{str(key)}.csv', encoding='utf-8', index=False)\n",
    "    if counter % 1000 == 0:\n",
    "        print(counter)"
   ]
  }
 ],
 "metadata": {
  "kernelspec": {
   "display_name": "Python 3",
   "language": "python",
   "name": "python3"
  },
  "language_info": {
   "codemirror_mode": {
    "name": "ipython",
    "version": 3
   },
   "file_extension": ".py",
   "mimetype": "text/x-python",
   "name": "python",
   "nbconvert_exporter": "python",
   "pygments_lexer": "ipython3",
   "version": "3.6.1"
  }
 },
 "nbformat": 4,
 "nbformat_minor": 2
}
